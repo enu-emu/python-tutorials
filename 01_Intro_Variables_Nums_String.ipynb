{
 "cells": [
  {
   "cell_type": "markdown",
   "id": "e4ca7a49",
   "metadata": {},
   "source": [
    "# Variables, Numbers and Strings\n",
    "\n",
    "### Variables\n",
    "Python programs use variables to store values. A *variable* is assigned a value such as a number or a string. Moreover, Assigning a value to an existing variable replaces the previously\n",
    "stored value. Please note that the assignment operator `=` does not denote mathematical equality.\n",
    "\n",
    "A variable must be created and initialized before it can be used for the first time. For example,\n",
    "the following sequence of statements would not be legal:\n",
    "\n",
    "```python\n",
    "canVolume = 12 * literPerOunce # Error: literPerOunce has not yet been created.\n",
    "literPerOunce = 0.0296\n",
    "```\n",
    "\n",
    "In your program, the statements are executed in order. When the first statement is executed by\n",
    "the virtual machine, it does not know that literPerOunce will be created in the next line, and it\n",
    "reports an “undefined name” error. The remedy is to reorder the statements so that each vari-\n",
    "able is created and initialized before it is used.\n",
    "\n",
    "---\n",
    "\n",
    "### Number types\n",
    "The data type of a value specifies how the value is stored in the computer and what operations can be performed on the value. A data type provided by the language itself is called a **primitive** data type. \n",
    "\n",
    "In Python, there are several different types of numbers. An _*integer*_ value is a whole number without a fractional part. _*Floating-point*_ numbers contain a fractional part.\n",
    "\n",
    "```python\n",
    "taxRate = 5     # Integer\n",
    "taxRate = 5.5   # Floating Point\n",
    "```\n",
    "\n",
    "Some things to note: \n",
    "- Integers can be negative\n",
    "- Zero is an integer\n",
    "- A number in exponential notations such as $1 \\times 10^6$ or 1000000 always has type `float`\n",
    "\n",
    "--- \n",
    "### Variable Names\n",
    "\n",
    "1. Names must start with a *letter* or the *underscore* (_) character, and the remaining characters must be letters, numbers, or underscores.\n",
    "2. You cannot use other symbols such as ? or %. Spaces are not permitted inside names either. You can use uppercase letters to denote word bound­aries, as in cansPerPack. This naming convention is called camel\n",
    "case because the uppercase letters in the middle of the name look like the humps of a camel.\n",
    "3. Variable names are case sensitive\n",
    "4. Variable names cannot start with a number.\n",
    "5. Variable names cannot contain spaces.\n",
    "6. You cannot use a reserved word as a variable name such as `if` or `class` as names; these words are\n",
    "reserved exclusively for their special Python meanings.\n",
    "7. You cannot use symbols such as / or.\n",
    "\n",
    "---\n",
    "### Constants\n",
    "\n",
    "A constant variable, or simply a constant, is a variable whose value should not be changed after it has been assigned an initial value. Some languages provide an explicit mechanism for marking a variable as a constant and will generate a syntax error if you attempt to assign a new value to the variable. Python leaves it to the programmer to make sure that constants are not changed. Thus, it is common practice to specify a constant variable with the use of all capital letters for its name.\n",
    "`BOTTLE_VOLUME = 2.0`\n",
    "`MAX_SIZE = 100`\n",
    "\n",
    "---\n",
    "### Arithmetic\n",
    "\n",
    "As in regular algebraic notation, multi­plication and division have a higher precedence than addition and subtraction. For example, in the expres­sion `a + b / 2`, the `/` is carried out first, even though the + operation occurs further to the left. Again, as in algebra, operators with the same precedence are executed left-to-right. For example, 10 - 2 - 3 is 8 – 3 or 5. Mixing integers and floating-point values in an arithmetic expression yields a floating-point value. \n",
    "\n",
    "---\n",
    "### Powers\n",
    "Python uses the exponential operator ** to denote the power operation. For example, the Python equivalent of the mathematical expression $a^2$ is `a ** 2`. Note that there can be no space between the two asterisks. As in mathematics, the exponential operator has a higher order of precedence than the other arithmetic operators. For example, 10 * 2 ** 3 is $10 \\times 2^3 = 80$. Unlike the other arithmetic operators, power operators are evaluated from right to left. Thus, the Python expression `10 ** 2 ** 3` is equivalent to $$10^{(2^3)} = 10^8 = 100{,}000{,}000.$$\n",
    "\n",
    "In algebra, you use fractions and exponents to arrange expressions in a compact two-dimensional form. In Python, you have to write all expressions in a linear arrangement. For example, the mathematical expression\n",
    "\n",
    "$$\n",
    "b \\times \\left( 1 + \\frac{r}{100} \\right)^n\n",
    "$$\n",
    "\n",
    "becomes `b * (1 + r / 100) ** n`\n",
    "\n",
    "---\n",
    "### Floor Division and Remainder\n",
    "When you divide two integers with the `/` operator, you get a floating-point value. However, we can also perform **floor division** using the `//` operator to return an integer value. Take `7 / 4` which equals 1.75. The `//` operator makes the expression `1` as it keeps the integer answer and discards the fractional component of the answer. If you also want to utilize the remainder, you can do so with the modulo operator `%` which deals with the **integer remainder** of a division operation rather than the fractional remainder (0.75). It follows the mathematical formula \n",
    "\n",
    "```text\n",
    "a % b = a - (b x floor(a/b))\n",
    "```\n",
    "\n",
    "Therefore: \n",
    "\n",
    "```text\n",
    "7 % 4 = 7 − (4 × 7 // 4)\n",
    "      = 7 − (4 × 1)\n",
    "      = 7 − 4 \n",
    "      = 3\n",
    "```\n",
    "Some useful tips include the following: \n",
    "\n",
    "| **Expression**                  | **Value**                              | **Comment**                                                                 |\n",
    "|----------------------------------|----------------------------------------|-----------------------------------------------------------------------------|\n",
    "| n % 10 (where n = 1729)                         | 9                                      | For any positive integer n, n % 10 is the last digit of n.                 |\n",
    "| n // 10 (where n = 1729)                        | 172                                    | This is n without the last digit.                                          |\n",
    "| n % 100 (where n = 1729)                        | 29                                     | The last two digits of n.                                                  |\n",
    "| n % 2  (where n = 1729)                         | 1                                      | n % 2 is 0 if n is even, 1 if n is odd (provided n is not negative).       |\n",
    "| -n // 10   (where n = 1729)                     | -173                                   | -173 is the largest integer ≤ -172.9.                                      |\n",
    "| n % d == 0                      | True or False                         | Checks if n is divisible by d. If True, n is a multiple of d.               |\n",
    "| n % 1                           | 0                                     | Modulo 1 always results in 0 since any number is evenly divisible by 1.     |\n",
    "| n % 2 == 0                      | True if n is even, False otherwise     | Determines whether n is even or odd.                                        |\n",
    "| n // d * d + n % d == n         | True                                  | Confirms that the formula for modulus and floor division holds true.        |\n",
    "| n % -d                          | Remainder with negative divisor        | The sign of the remainder follows the divisor (d), not the dividend (n).    |\n",
    "| n // -d                         | Rounds toward negative infinity       | For floor division with a negative divisor, it rounds down further.         |\n",
    "| (a + b) % c                     | ((a % c) + (b % c)) % c               | The modulo operation is distributive over addition. Useful in modular arithmetic. |\n",
    "| (a * b) % c                     | ((a % c) * (b % c)) % c               | The modulo operation is distributive over multiplication.                   |\n",
    "\n",
    "\n",
    "Python does have some built in math functions as shown below, however it is more likely that you will import certain libraries to utilize their mathematical functions. \n",
    "\n",
    "| **Function**            | **Returns**                                                                 |\n",
    "|--------------------------|----------------------------------------------------------------------------|\n",
    "| `abs(x)`                | The absolute value of `x`.                                                |\n",
    "| `round(x)`              | The floating-point value `x` rounded to a whole number.                   |\n",
    "| `round(x, n)`           | The floating-point value `x` rounded to `n` decimal places.               |\n",
    "| `max(x₁, x₂, ..., xₙ)`  | The largest value from among the arguments.                               |\n",
    "| `min(x₁, x₂, ..., xₙ)`  | The smallest value from among the arguments.                              |\n",
    "\n",
    "\n",
    "\n",
    "---\n",
    "\n"
   ]
  },
  {
   "cell_type": "markdown",
   "id": "ab2282da",
   "metadata": {},
   "source": [
    "### Input/Output\n",
    "\n",
    "To ask the user to enter information, use the `input()`. The `input()` function can only obtain a string of text from the user. But what if we need to obtain a numerical value? To read an integer or floating-point value, use the `input()` function followed by the `int()` or `float()` funtion. "
   ]
  },
  {
   "cell_type": "code",
   "execution_count": 49,
   "id": "22df30d8",
   "metadata": {},
   "outputs": [
    {
     "name": "stdout",
     "output_type": "stream",
     "text": [
      "The first name is Ada\n"
     ]
    }
   ],
   "source": [
    "first = input(\"Enter your first name: \")\n",
    "print(\"The first name is\", first)"
   ]
  },
  {
   "cell_type": "code",
   "execution_count": 52,
   "id": "96388097",
   "metadata": {},
   "outputs": [
    {
     "name": "stdout",
     "output_type": "stream",
     "text": [
      "milk_price (type): <class 'float'>\n",
      "milk_price: $3.56\n"
     ]
    }
   ],
   "source": [
    "milk_price = float(input(\"Enter the price of milk: \"))\n",
    "print(f\"milk_price (type): {type(milk_price)}\\nmilk_price: ${milk_price}\")\n"
   ]
  },
  {
   "cell_type": "markdown",
   "id": "7477b817",
   "metadata": {},
   "source": [
    "### Comparisons\n",
    "\n"
   ]
  },
  {
   "cell_type": "markdown",
   "id": "d13ed750",
   "metadata": {},
   "source": [
    "### Strings\n",
    "\n",
    "Strings allow us to work with textual data in Python. They are a collection of characters and can be enclosed in either double \"string\" or single 'string' quotes. If your string has an apostrophe, use double quotes; otherwise, the string will end prematurely and confuse the interpreter.\n",
    "\n",
    "You can place two separate string variables through concatenation and yield a longer string composed of all the chars of the first and second. Use the `+` operator to *concatenate* strings with no spaces in between the strings. When the expression to the left or the right of a `+` operator is a string, the other one must also be a string or a syntax error will occur. You cannot concatenate a string with a numerical value.\n",
    "\n",
    "You can also produce a string that is the result of repeating a string multiple times. For example, suppose you need to print a dashed line. Instead of specifying a literal string with 15 dashes, you can use the `*` operator to create a string that is comprised of the string \"-\" repeated 15 times. For example,"
   ]
  },
  {
   "cell_type": "code",
   "execution_count": null,
   "id": "2e738964",
   "metadata": {},
   "outputs": [],
   "source": [
    "message = \"Hello World! \"\n",
    "statement = \"You are learning python!\"\n",
    "dash = \"-\" * 15\n",
    "print( dash + message + statement + dash)"
   ]
  },
  {
   "cell_type": "markdown",
   "id": "9e1dc37a",
   "metadata": {},
   "source": [
    "You can also create multi-line strings using triple quotes (\"\"\" or '''). These are useful for retaining the formatting of the string:"
   ]
  },
  {
   "cell_type": "code",
   "execution_count": null,
   "id": "49f10dfb",
   "metadata": {},
   "outputs": [],
   "source": [
    "message = \"\"\"This is a docstring that will retain\n",
    "the formatting of the string\n",
    "within\"\"\"\n",
    "\n",
    "print(message)"
   ]
  },
  {
   "cell_type": "markdown",
   "id": "092dbee0",
   "metadata": {},
   "source": [
    "String Length\n",
    "\n",
    "Use the len() function to get the total number of characters in your string, including spaces and special characters:"
   ]
  },
  {
   "cell_type": "code",
   "execution_count": null,
   "id": "eb8017fa-51e9-4deb-ba97-9b8fb70099f5",
   "metadata": {},
   "outputs": [],
   "source": [
    "len(message)\n"
   ]
  },
  {
   "cell_type": "markdown",
   "id": "c6a8dda8",
   "metadata": {},
   "source": [
    "### Converting between Numbers and Strings\n",
    "\n",
    "The `str()` function produces the string representation of a numerical value. Conversely, the `int` or `float` functions convert a string containing a number to the numerical value."
   ]
  },
  {
   "cell_type": "code",
   "execution_count": null,
   "id": "63eb27d2",
   "metadata": {},
   "outputs": [],
   "source": [
    "name = \"Agent \"\n",
    "id = 789\n",
    "millenium = '1000'\n",
    "print(type(name))\n",
    "print(type(id))\n",
    "print(name + str(id))\n",
    "print(f\"The type: {type(millenium)}\\nThe conversion: {float(millenium)}\")"
   ]
  },
  {
   "cell_type": "markdown",
   "id": "28e827a4",
   "metadata": {},
   "source": [
    "### Using the `help()` and `dir()` functions\n",
    "\n",
    "You can pass in any variable to the `dir()` function to see all the attributes and methods that we have access to with that variable. Once you have the listing, you can use the `help()` function to elaborate on that specific method or attribute. You can not pass a variable to `help()`, rather you pass in the actual class or method. For example, you can see all avaiable options for the string, int or float class using the following: \n",
    "\n",
    "```python\n",
    "help(str)       # From string class\n",
    "help(int)       # From int class\n",
    "help(float)     # From float class\n",
    "help(list)      # From list class\n",
    "help(dict)      # From dict class\n",
    "```\n",
    "\n",
    "Or more precisely, if you have a method within the class you want to analyze you can use: \n",
    "\n",
    "```python\n",
    "help(str.lower)     # Returns info for the lower() method\n",
    "```\n"
   ]
  },
  {
   "cell_type": "code",
   "execution_count": null,
   "id": "c881e690",
   "metadata": {},
   "outputs": [],
   "source": [
    "name = \"Henry\"\n",
    "print(f\"The functions for 'name', type {type(name)} are the following:\\n{dir(name)}\\n\")"
   ]
  },
  {
   "cell_type": "code",
   "execution_count": null,
   "id": "3660a6f6",
   "metadata": {},
   "outputs": [],
   "source": [
    "help(str.lower)"
   ]
  },
  {
   "cell_type": "code",
   "execution_count": null,
   "id": "3c2d54a3",
   "metadata": {},
   "outputs": [],
   "source": [
    "help(int)"
   ]
  },
  {
   "cell_type": "markdown",
   "id": "3a1f5cdd",
   "metadata": {},
   "source": [
    "### Accessing Characters by Index\n",
    "\n",
    "Strings are indexed collections, meaning you can access individual characters using their index. Indexing starts from 0 for the first character and goes up to `len(string) - 1` for the last character.\n",
    "\n",
    "The string can be traversed character by character by adding `[]` to the variable name that indicates which indice you want to access. The below for loop uses concatenation with the `+` sign. The first part of the concatenation is the string `Index: `. Since this for loop traverses the range of the length of the message in integers, `i` is going to be the index value. The `str()` method turns the int variable `i` into a string. The next concatenation is the tab character. Finally the `message[i]` is the character at the `ith` index value of the string. Every print statement has a new line, so the string is transformed into a vertical layout as shown below. \n"
   ]
  },
  {
   "cell_type": "code",
   "execution_count": null,
   "id": "0a88f4c2",
   "metadata": {},
   "outputs": [],
   "source": [
    "message = \"Hello World\"\n",
    "\n",
    "for i in range(len(message)):\n",
    "    print(\"Index: \" + str(i) + \"\\t\" + message[i])\n",
    "\n",
    "print(f\"The lenth of the message: {len(message)}\")"
   ]
  },
  {
   "cell_type": "markdown",
   "id": "388007c2",
   "metadata": {},
   "source": [
    "### Slicing Strings\n",
    "\n",
    "Slicing allows you to extract portions of a string. The syntax for slicing is string[start:end], where start is the inclusive index and end is the exclusive index. Leaving out start defaults to 0, and leaving out end defaults to the end of the string."
   ]
  },
  {
   "cell_type": "code",
   "execution_count": null,
   "id": "a9487b19",
   "metadata": {},
   "outputs": [],
   "source": [
    "word1 = message[0:5]\n",
    "word1"
   ]
  },
  {
   "cell_type": "code",
   "execution_count": null,
   "id": "afbbd3f1",
   "metadata": {},
   "outputs": [],
   "source": [
    "word2 = message[6:]\n",
    "word2"
   ]
  },
  {
   "cell_type": "markdown",
   "id": "3715bcd4",
   "metadata": {},
   "source": [
    "### Strings are Immutable\n",
    "\n",
    "Strings in Python are immutable, which means they cannot be changed after they are created. Any operation that appears to modify a string actually creates a new string. In the below example, slicing was used to extract a portion of the original string and concatenate it with another string to create a new one. "
   ]
  },
  {
   "cell_type": "code",
   "execution_count": null,
   "id": "297aeb02",
   "metadata": {},
   "outputs": [],
   "source": [
    "message = \"Hello World\"\n",
    "message = message[:5] + \" Everyone\"\n",
    "print(message)  # Output: 'Hello Everyone'"
   ]
  },
  {
   "cell_type": "markdown",
   "id": "2c7bfe4e",
   "metadata": {},
   "source": [
    "Methods like the lower() method are applied to strings by using dot notation \n",
    "\n",
    "---\n",
    "\n",
    "### **What is Dot Notation?**\n",
    "Dot notation (`.`) is a way to access the methods (functions) and attributes (properties) of an object in Python. It is used to apply specific functionality to variables (objects) based on their type.\n",
    "\n",
    "---\n",
    "\n",
    "### **How Dot Notation Works**\n",
    "1. **Objects and Classes**:\n",
    "   - In Python, everything is an object, and objects are instances of classes.\n",
    "   - A string (like `\"Hello World\"`) is an instance of the `str` class.\n",
    "\n",
    "2. **Methods**:\n",
    "   - Methods are functions that belong to an object and can perform specific actions or transformations on it.\n",
    "   - The dot (`.`) is used to call a method on an object.\n",
    "\n",
    "3. **The Syntax**:\n",
    "   ```python\n",
    "   object.method(arguments)\n",
    "   ```\n",
    "\n",
    "   - `object`: The variable (or literal) on which you want to apply the method.\n",
    "   - `method`: The function associated with the object’s class.\n",
    "   - `arguments`: Optional input values the method may require.\n",
    "\n",
    "---\n",
    "\n",
    "### **Using Dot Notation**\n",
    "```python\n",
    "message = \"Hello World\"\n",
    "lowercase_message = message.lower()\n",
    "print(lowercase_message)\n",
    "```\n",
    "\n",
    "#### Step-by-Step Explanation:\n",
    "1. **Object Creation**:\n",
    "   - The variable `message` is assigned the value `\"Hello World\"`, which is a string object (`str` class).\n",
    "\n",
    "2. **Method Call**:\n",
    "   - `message.lower()` uses dot notation to call the `lower()` method of the `str` class.\n",
    "   - The `lower()` method is a built-in function of the `str` class, and its purpose is to convert all uppercase letters in the string to lowercase.\n",
    "\n",
    "3. **Output**:\n",
    "   - The result of `message.lower()` is a new string (`\"hello world\"`), which is stored in the variable `lowercase_message`.\n",
    "\n",
    "---\n",
    "\n",
    "### **Key Points about Dot Notation**:\n",
    "1. **String Methods**:\n",
    "   - Python strings have many methods (e.g., `upper()`, `strip()`, `replace()`, etc.) that you can call using dot notation.\n",
    "   - Each method is designed to operate specifically on string objects.\n",
    "\n",
    "2. **Immutability**:\n",
    "   - Strings are **immutable** in Python, meaning the original string (`message`) is not modified. Instead, the method returns a new string.\n",
    "\n",
    "3. **Chainable**:\n",
    "   - Dot notation allows **method chaining**, where multiple methods can be applied in a single line:\n",
    "     ```python\n",
    "     message = \"  Hello World  \"\n",
    "     cleaned_message = message.strip().lower()\n",
    "     print(cleaned_message)  # Output: \"hello world\"\n",
    "     ```\n",
    "   - Here, `strip()` removes whitespace, and `lower()` converts the result to lowercase.\n",
    "\n",
    "---\n",
    "\n",
    "### **How to Explain Dot Notation Simply**\n",
    "- **Analogy**: Think of the dot (`.`) as a door. You’re asking the object to “open the door” to its methods or properties.\n",
    "- **In Action**:\n",
    "   - **Object**: The variable or data you’re working with (e.g., `\"Hello World\"`).\n",
    "   - **Method**: A predefined tool (e.g., `lower()`) that does something specific with the object.\n"
   ]
  },
  {
   "cell_type": "code",
   "execution_count": null,
   "id": "8d69725f",
   "metadata": {},
   "outputs": [],
   "source": [
    "message = \"Hello World\"\n",
    "lowercase_message = message.lower()\n",
    "\n",
    "print(lowercase_message)"
   ]
  },
  {
   "cell_type": "markdown",
   "id": "fb7e6dcb",
   "metadata": {},
   "source": [
    "Here’s a list of **common string methods** in Python:\n",
    "\n",
    "---\n",
    "\n",
    "### **Common String Methods**\n",
    "\n",
    "1. **`lower()`**  \n",
    "   Converts all characters to lowercase.  \n",
    "   ```python\n",
    "   \"Hello\".lower()  # \"hello\"\n",
    "   ```\n",
    "\n",
    "2. **`upper()`**  \n",
    "   Converts all characters to uppercase.  \n",
    "   ```python\n",
    "   \"hello\".upper()  # \"HELLO\"\n",
    "   ```\n",
    "\n",
    "3. **`capitalize()`**  \n",
    "   Capitalizes the first character of the string.  \n",
    "   ```python\n",
    "   \"hello world\".capitalize()  # \"Hello world\"\n",
    "   ```\n",
    "\n",
    "4. **`title()`**  \n",
    "   Capitalizes the first letter of each word.  \n",
    "   ```python\n",
    "   \"hello world\".title()  # \"Hello World\"\n",
    "   ```\n",
    "\n",
    "5. **`strip()`**  \n",
    "   Removes leading and trailing whitespace.  \n",
    "   ```python\n",
    "   \"  hello  \".strip()  # \"hello\"\n",
    "   ```\n",
    "\n",
    "6. **`replace(old, new)`**  \n",
    "   Replaces occurrences of `old` with `new`.  \n",
    "   ```python\n",
    "   \"hello world\".replace(\"world\", \"Python\")  # \"hello Python\"\n",
    "   ```\n",
    "\n",
    "7. **`split(delimiter)`**  \n",
    "   Splits the string into a list based on the delimiter.  \n",
    "   ```python\n",
    "   \"a,b,c\".split(\",\")  # [\"a\", \"b\", \"c\"]\n",
    "   ```\n",
    "\n",
    "8. **`join(iterable)`**  \n",
    "   Joins elements of an iterable (e.g., list) into a single string with a specified separator.  \n",
    "   ```python\n",
    "   \",\".join([\"a\", \"b\", \"c\"])  # \"a,b,c\"\n",
    "   ```\n",
    "\n",
    "9. **`find(substring)`**  \n",
    "   Returns the index of the first occurrence of `substring` (or `-1` if not found).  \n",
    "   ```python\n",
    "   \"hello\".find(\"e\")  # 1\n",
    "   ```\n",
    "\n",
    "10. **`count(substring)`**  \n",
    "    Counts the occurrences of `substring` in the string.  \n",
    "    ```python\n",
    "    \"hello world\".count(\"l\")  # 3\n",
    "    ```\n",
    "\n",
    "11. **`startswith(prefix)`**  \n",
    "    Checks if the string starts with `prefix`.  \n",
    "    ```python\n",
    "    \"hello\".startswith(\"he\")  # True\n",
    "    ```\n",
    "\n",
    "12. **`endswith(suffix)`**  \n",
    "    Checks if the string ends with `suffix`.  \n",
    "    ```python\n",
    "    \"hello\".endswith(\"lo\")  # True\n",
    "    ```\n",
    "\n",
    "13. **`isalpha()`**  \n",
    "    Returns `True` if the string contains only alphabetic characters.  \n",
    "    ```python\n",
    "    \"hello\".isalpha()  # True\n",
    "    ```\n",
    "\n",
    "14. **`isdigit()`**  \n",
    "    Returns `True` if the string contains only digits.  \n",
    "    ```python\n",
    "    \"12345\".isdigit()  # True\n",
    "    ```\n",
    "\n",
    "15. **`isalnum()`**  \n",
    "    Returns `True` if the string contains only alphanumeric characters.  \n",
    "    ```python\n",
    "    \"hello123\".isalnum()  # True\n",
    "    ```\n",
    "\n",
    "16. **`len()`** *(Not a method, but useful)*  \n",
    "    Returns the length of the string.  \n",
    "    ```python\n",
    "    len(\"hello\")  # 5\n",
    "    ```\n"
   ]
  },
  {
   "cell_type": "markdown",
   "id": "49df1b7f",
   "metadata": {},
   "source": [
    "### Character Values\n",
    "\n",
    "A character is stored internally as an integer value. The specific value used for a given character\n",
    "is based on Unicode - a standard set of codes for processing language. For example, if you look up the value for the charac­ter \"H\", you can see that it is actually encoded as the number 72.\n",
    "Python provides two functions related to character encodings. \n",
    "\n",
    "The ord function returns the number used to represent a given character. The chr function returns the character associated with a given code. For example,\n",
    "\n",
    "print(\"The letter H has a code of\", ord(\"H\"))\n",
    "print(\"Code 97 represents the character\", chr(97))\n",
    "produces the following output\n",
    "The letter H has a code of 72\n",
    "Code 97 represents the character a"
   ]
  },
  {
   "cell_type": "code",
   "execution_count": 47,
   "id": "dd04e5d3",
   "metadata": {},
   "outputs": [
    {
     "name": "stdout",
     "output_type": "stream",
     "text": [
      "The letter H has a code of 72\n",
      "Code 97 represents the character 'a' \n"
     ]
    }
   ],
   "source": [
    "print(f\"The letter H has a code of {ord(\"H\")}\")\n",
    "print(f\"Code 97 represents the character '{chr(97)}' \")"
   ]
  }
 ],
 "metadata": {
  "kernelspec": {
   "display_name": "venv",
   "language": "python",
   "name": "python3"
  },
  "language_info": {
   "codemirror_mode": {
    "name": "ipython",
    "version": 3
   },
   "file_extension": ".py",
   "mimetype": "text/x-python",
   "name": "python",
   "nbconvert_exporter": "python",
   "pygments_lexer": "ipython3",
   "version": "3.12.4"
  }
 },
 "nbformat": 4,
 "nbformat_minor": 5
}
