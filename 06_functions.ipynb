{
 "cells": [
  {
   "cell_type": "markdown",
   "metadata": {},
   "source": [
    "# Functions\n",
    "\n",
    "A function is a sequence of instructions with a name. They allow you to encapsulate logic into named blocks, making programs more modular, readable, and efficient. Functions can be called from libraries of built-in classes. Functions can be user-defined. \n",
    "\n",
    "### Defining Functions\n",
    "\n",
    "When defining a function, you provide a name for the function and a variable for each argument. These variables are called _**parameter variables**_. Along with the `def` reserved keyword, these components make up the first line or *header* of the function. "
   ]
  },
  {
   "cell_type": "code",
   "execution_count": 10,
   "metadata": {},
   "outputs": [
    {
     "data": {
      "text/plain": [
       "15"
      ]
     },
     "execution_count": 10,
     "metadata": {},
     "output_type": "execute_result"
    }
   ],
   "source": [
    "# Function definition with arguments and a return value\n",
    "def sum_numbers(a, b):\n",
    "    return a + b\n",
    "\n",
    "# Function call with argument\n",
    "sum_numbers(3, 12)"
   ]
  },
  {
   "cell_type": "markdown",
   "metadata": {},
   "source": [
    "### Calling Functions\n",
    "\n",
    "*Call* a function to execute its instructions. A function call can include no arguments, one argument, or multiple arguments, depending on its definition. Although a function has a single return statement, this statement can return complex objects, such as lists or tuples, that encapsulate multiple values. Alternatively, a function may perform an action, like printing a value, without returning any output. "
   ]
  },
  {
   "cell_type": "code",
   "execution_count": 7,
   "metadata": {},
   "outputs": [
    {
     "name": "stdout",
     "output_type": "stream",
     "text": [
      "Hello world!\n"
     ]
    }
   ],
   "source": [
    "# Function with no argument or return value\n",
    "def greet():\n",
    "    print(\"Hello world!\")\n",
    "\n",
    "greet()"
   ]
  },
  {
   "cell_type": "markdown",
   "metadata": {},
   "source": [
    "### Functions in Python\n",
    "\n",
    "The python interpreter reads the source code one line at a time. Therefore, it is important that you define each function before you call it. Alternatively, a function can be called from within another function before the former has been defined. In the below example note that the cubeVolume function is called from within the main function even though cubeVolume is defined after main. The definitions of the main and cubeVolume functions are processed, then the statement in the last line is executed calling `main()`"
   ]
  },
  {
   "cell_type": "code",
   "execution_count": 9,
   "metadata": {},
   "outputs": [
    {
     "name": "stdout",
     "output_type": "stream",
     "text": [
      "A cube with side length 2 has volume 8\n"
     ]
    }
   ],
   "source": [
    "def main() :\n",
    "    result = cubeVolume(2)\n",
    "    print(\"A cube with side length 2 has volume\", result)\n",
    "\n",
    "def cubeVolume(sideLength) :\n",
    "    volume = sideLength ** 3\n",
    "    return volume\n",
    "\n",
    "main()"
   ]
  },
  {
   "cell_type": "code",
   "execution_count": 14,
   "metadata": {},
   "outputs": [
    {
     "name": "stdout",
     "output_type": "stream",
     "text": [
      "--------\n",
      "! Good !\n",
      "--------\n",
      "-----------\n",
      "! Morning !\n",
      "-----------\n"
     ]
    }
   ],
   "source": [
    "def boxString(contents):\n",
    "    n = len(contents)\n",
    "    if n == 0: \n",
    "        return \n",
    "    print(\"-\" * (n+4))\n",
    "    print(f\"! {contents} !\")\n",
    "    print(\"-\" * (n+4))\n",
    "\n",
    "boxString(\"Good\")\n",
    "boxString(\"Morning\")"
   ]
  },
  {
   "cell_type": "markdown",
   "metadata": {},
   "source": [
    "### Function Arguments\n",
    "\n",
    "Functions can handle a variety of argument configuration without modification. In python, `*args` and `*kwargs` are powerful tools for creating flexible functions that can handle an arbitrary number of arguments. This is useful when you don't know in advance how many arguments your functions will need to handle. "
   ]
  },
  {
   "cell_type": "code",
   "execution_count": 1,
   "metadata": {},
   "outputs": [
    {
     "name": "stdout",
     "output_type": "stream",
     "text": [
      "Hello, Alice!\n",
      "Hello, Bob!\n",
      "Hello, Charlie!\n"
     ]
    }
   ],
   "source": [
    "def greet(*names):\n",
    "    for name in names:\n",
    "        print(f\"Hello, {name}!\")\n",
    "\n",
    "greet(\"Alice\", \"Bob\", \"Charlie\")"
   ]
  }
 ],
 "metadata": {
  "kernelspec": {
   "display_name": "venv",
   "language": "python",
   "name": "python3"
  },
  "language_info": {
   "codemirror_mode": {
    "name": "ipython",
    "version": 3
   },
   "file_extension": ".py",
   "mimetype": "text/x-python",
   "name": "python",
   "nbconvert_exporter": "python",
   "pygments_lexer": "ipython3",
   "version": "3.12.4"
  }
 },
 "nbformat": 4,
 "nbformat_minor": 2
}
