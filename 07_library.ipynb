{
 "cells": [
  {
   "cell_type": "markdown",
   "metadata": {},
   "source": [
    "# Python Modules and Standard Library Overview\n",
    "\n",
    "In this tutorial, we will be importing modules that we create as well as learn more about the standard library. Below is the code for a .py file we will call `my_module.py`. "
   ]
  },
  {
   "cell_type": "code",
   "execution_count": null,
   "metadata": {},
   "outputs": [],
   "source": [
    "# my_module.py\n",
    "\n",
    "print(\"Imported my module....\")\n",
    "\n",
    "test = \"Test String\"\n",
    "\n",
    "def find_index(to_search, target): \n",
    "    '''Find the index of value in a sequence. Returns -1 if not found'''\n",
    "    for i, value in enumerate(to_search):\n",
    "        if value == target: \n",
    "            return i\n",
    "    \n",
    "    return -1\n"
   ]
  },
  {
   "cell_type": "markdown",
   "metadata": {},
   "source": [
    "### Importing the Module\n",
    "\n",
    "Once we have defined the module with the above code, which contains a print statement, a variable, and a function, make sure the file is in the same directory as the script. To import: \n",
    "\n",
    "1. Once the script is in the same directory as the module, use the following key words to import the module: \n",
    "    - `import my_module`\n",
    "    - Running the script executes all code in the module (e.g. print statement)\n",
    "2. Access the function or variable with the following syntax: \n",
    "    - `my_module.function_name()`\n",
    "    - `my_module.variable_name`\n",
    "3. You can use an alias instead of the actual names with the following syntax: \n",
    "```python\n",
    "import my_module as mm\n",
    "index = mm.find_index(courses, \"Math\")\n",
    "```\n",
    "4. If you want access to only a specific function or variable, you can use a more targeted import statement. This allows direct usage without the module prefix\n",
    "```python\n",
    "from my_module import find_index, test\n",
    "index = find_index(courses, \"Math\") # Didn't need my_module or mm prefix\n",
    "```\n",
    "5. You can import everything with `from my_module import *` however, it is not recommended because it becomes unclear which module defines specific functions/variables.\n"
   ]
  },
  {
   "cell_type": "markdown",
   "metadata": {},
   "source": [
    "# How Python finds Modules\n",
    "\n",
    "When importing, Python looks for the modules in the following order: \n",
    "1. The current script directory\n",
    "2. Directories listed in the `PYTHONPATH` environment variable \n",
    "3. Standard Library directories \n",
    "4. `site-packages` \n",
    "\n",
    "To see the system path of a file, you can use the below code (in a print statement since Jupyter and REPL are interactive environments, and their primary purpose is to provide immediate feedback to the user.) Additionally, you can add custom directory to dynamically add to `sys.path`\n",
    "```python\n",
    "import sys\n",
    "sys.path.append(\"/path/to/directory\")\n",
    "```\n",
    "\n",
    "Permanently add via PYTHONPATH:\n",
    "Mac/Linux: Add export `PYTHONPATH=\"path/to/directory\"` to .bash_profile.\n",
    "Windows: Add a new environment variable for `PYTHONPATH`."
   ]
  },
  {
   "cell_type": "code",
   "execution_count": 3,
   "metadata": {},
   "outputs": [
    {
     "name": "stdout",
     "output_type": "stream",
     "text": [
      "['/Library/Frameworks/Python.framework/Versions/3.12/lib/python312.zip', '/Library/Frameworks/Python.framework/Versions/3.12/lib/python3.12', '/Library/Frameworks/Python.framework/Versions/3.12/lib/python3.12/lib-dynload', '', '/Users/enasalazar/Documents/CODE/Python/pythonTutorials/venv/lib/python3.12/site-packages']\n"
     ]
    },
    {
     "data": {
      "text/plain": [
       "['/Library/Frameworks/Python.framework/Versions/3.12/lib/python312.zip',\n",
       " '/Library/Frameworks/Python.framework/Versions/3.12/lib/python3.12',\n",
       " '/Library/Frameworks/Python.framework/Versions/3.12/lib/python3.12/lib-dynload',\n",
       " '',\n",
       " '/Users/enasalazar/Documents/CODE/Python/pythonTutorials/venv/lib/python3.12/site-packages']"
      ]
     },
     "execution_count": 3,
     "metadata": {},
     "output_type": "execute_result"
    }
   ],
   "source": [
    "import sys\n",
    "# print(sys.path)\n",
    "sys.path"
   ]
  },
  {
   "cell_type": "markdown",
   "metadata": {},
   "source": [
    "### Exploring the Standard Library \n",
    "\n",
    "Some common modules worth highlighting for common tasks include: \n",
    "1. `random`: randomly selects elements\n",
    "```python\n",
    "import random\n",
    "random_course = random.choice(courses)\n",
    "```\n",
    "2. `math`: mathematical functions \n",
    "```python\n",
    "import math\n",
    "radians = math.radians(90)\n",
    "sine = math.sin(radians)\n",
    "```\n",
    "3. `datetime`: work with dates and time\n",
    "```python\n",
    "from datetime import datetime\n",
    "today = datetime.today()\n",
    "```\n",
    "4. `calendar`: check leap years\n",
    "```python\n",
    "import calendar\n",
    "is_leap = calendar.isleap(2020)\n",
    "```\n",
    "5. `os`: interacting with the operating system\n",
    "```python\n",
    "import os\n",
    "cwd = os.getcwd()\n",
    "```"
   ]
  },
  {
   "cell_type": "code",
   "execution_count": 4,
   "metadata": {},
   "outputs": [
    {
     "name": "stdout",
     "output_type": "stream",
     "text": [
      "/Library/Frameworks/Python.framework/Versions/3.12/lib/python3.12/os.py\n"
     ]
    }
   ],
   "source": [
    "import os\n",
    "# Check where a module is located \n",
    "print(os.__file__)\n"
   ]
  }
 ],
 "metadata": {
  "kernelspec": {
   "display_name": "venv",
   "language": "python",
   "name": "python3"
  },
  "language_info": {
   "codemirror_mode": {
    "name": "ipython",
    "version": 3
   },
   "file_extension": ".py",
   "mimetype": "text/x-python",
   "name": "python",
   "nbconvert_exporter": "python",
   "pygments_lexer": "ipython3",
   "version": "3.12.4"
  }
 },
 "nbformat": 4,
 "nbformat_minor": 2
}
