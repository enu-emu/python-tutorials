{
 "cells": [
  {
   "cell_type": "markdown",
   "metadata": {},
   "source": [
    "# Package Management\n",
    "\n",
    "`pip` is a powerful tool to install, manage, and uninstall Python packages. This covers how to install, uninstall, list, and upgrade packages. Additionally, we can output our dependencies and install a list of dependencies. These packages could be from \n",
    "* PyPI (python package index) - the most common source for python packages\n",
    "* Custom or local repositories\n",
    "\n",
    "To get started try `pip help` in the command line interface (cli) or below in Jupyter files using the `!` operator."
   ]
  },
  {
   "cell_type": "code",
   "execution_count": null,
   "metadata": {},
   "outputs": [],
   "source": [
    "!pip help"
   ]
  },
  {
   "cell_type": "markdown",
   "metadata": {},
   "source": [
    "### Basic pip commands\n",
    "\n",
    "* `pip --version`: checks if `pip` is installed and shows the installed version\n",
    "* `pip install <package-name>`: Installs a package (include the '<' or '>' in the actual command as they are signify that you need to substitute the actual package name there.)\n",
    "    * `pip install <package-name>==<version>`: specifies a version to install\n",
    "    * `pip install --user <package-name>`: installs a package for a specific user; useful if you lack admin privileges\n",
    "* `pip install --upgrade <package-name`: Upgrades a package\n",
    "* `pip uninstall <package-name>`: Removes a package\n",
    "* `pip freeze`: Generate a list of installed packages; primarily for reproducibility as it ensures you (or someone else) can recreate the same environment on another system by installing the exact versions specified in the requirements.txt.\n",
    "    * `pip freeze > requirements.txt` Creates a requirements.txt file with the list of currently installed packages and their versions.\n",
    "    * `pip install -r requirements.txt`: installs packages from requirements.txt\n",
    "* `pip list`: Show installed packages and their versions\n",
    "    * `pip list --outdated`: shows packages that have newer versions available\n",
    "* `pip search <package-name`: Search for packages (may require an API token depending on the pip version)\n",
    "* `pip show <package-name>`: shows details about a package \n",
    "* `help`: Displays help for a specific command\n",
    "* `python -m pip install --upgrade pip`: upgrades pip\n",
    "* `python -m ensurepip --upgrade`: fixes a corrupted installation\n",
    "* Using a virtual environment: \n",
    "\n",
    "```bash\n",
    "python -m venv <env-name>\n",
    "source <env-name>/bin/activate   # Linux/Mac\n",
    ".\\<env-name>\\Scripts\\activate   # Windows\n",
    "pip install <package-name>\n",
    "```"
   ]
  }
 ],
 "metadata": {
  "kernelspec": {
   "display_name": "venv",
   "language": "python",
   "name": "python3"
  },
  "language_info": {
   "codemirror_mode": {
    "name": "ipython",
    "version": 3
   },
   "file_extension": ".py",
   "mimetype": "text/x-python",
   "name": "python",
   "nbconvert_exporter": "python",
   "pygments_lexer": "ipython3",
   "version": "3.12.4"
  }
 },
 "nbformat": 4,
 "nbformat_minor": 2
}
