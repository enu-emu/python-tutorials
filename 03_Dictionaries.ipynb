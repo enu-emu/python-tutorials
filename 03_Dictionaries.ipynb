{
 "cells": [
  {
   "cell_type": "markdown",
   "metadata": {},
   "source": [
    "# Python Dictionaries: A Comprehensive Guide\n",
    "\n",
    "Dictionaries are one of Python's core data structures, used to store data in key-value pairs. This guide covers everything you need to know about dictionaries, including:\n",
    "- What are dictionaries?\n",
    "- Creating dictionaries\n",
    "- Accessing and modifying values\n",
    "- Dictionary methods\n",
    "- Iterating through dictionaries\n",
    "- Dictionary comprehension\n",
    "- Nested dictionaries\n",
    "- Common use cases and examples\n",
    "---"
   ]
  },
  {
   "cell_type": "markdown",
   "metadata": {},
   "source": [
    "## 1. What is a Dictionary?\n",
    "\n",
    "A dictionary is an unordered, mutable collection of items where each item is a pair of keys and values:\n",
    "- Keys: Unique and immutable (e.g., strings, numbers, tuples).\n",
    "- Values: Can be of any data type and are mutable.\n",
    "\n",
    "### Key Features of Dictionaries:\n",
    "- Defined using curly braces `{}`.\n",
    "- Keys must be unique, but values can be duplicated.\n",
    "- Dictionaries are unordered as of Python < 3.7. From Python 3.7 onwards, dictionaries maintain insertion order.\n",
    "\n",
    "### Example of a Dictionary:\n"
   ]
  },
  {
   "cell_type": "code",
   "execution_count": null,
   "metadata": {},
   "outputs": [],
   "source": [
    "# Creating a dictionary\n",
    "person = {\"name\": \"Alice\", \"age\": 25, \"city\": \"New York\"}\n",
    "print(person)"
   ]
  },
  {
   "cell_type": "markdown",
   "metadata": {},
   "source": [
    "## 2. Creating Dictionaries\n",
    "\n",
    "You can create dictionaries in several ways:\n",
    "1. Using curly braces `{}`.\n",
    "2. Using the `dict()` constructor.\n",
    "3. From a list of tuples or other iterables.\n",
    "\n",
    "### Examples:\n",
    "```python\n",
    "# Code examples\n",
    "# 1. Using curly braces\n",
    "student = {\"name\": \"John\", \"grade\": \"A\", \"age\": 20}\n",
    "\n",
    "# 2. Using the dict() constructor\n",
    "employee = dict(name=\"Jane\", position=\"Manager\", salary=80000)\n",
    "\n",
    "# 3. From a list of tuples\n",
    "pairs = [(\"x\", 10), (\"y\", 20)]\n",
    "coordinates = dict(pairs)\n",
    "```\n",
    "---"
   ]
  },
  {
   "cell_type": "code",
   "execution_count": null,
   "metadata": {},
   "outputs": [],
   "source": [
    "# Examples of creating dictionaries\n",
    "student = {\"name\": \"John\", \"grade\": \"A\", \"age\": 20}\n",
    "employee = dict(name=\"Jane\", position=\"Manager\", salary=80000)\n",
    "coordinates = dict([(\"x\", 10), (\"y\", 20)])\n",
    "\n",
    "print(\"Student:\", student)\n",
    "print(\"Employee:\", employee)\n",
    "print(\"Coordinates:\", coordinates)"
   ]
  },
  {
   "cell_type": "markdown",
   "metadata": {},
   "source": [
    "## 3. Accessing and Modifying Dictionary Values\n",
    "\n",
    "You can access values in a dictionary using their keys. Use square brackets `[]` or the `.get()` method. Using the literal `[]` will throw an error if the key doesn't exist. Therefore, using the `dict.get()` method is more preferable because if the key doesn't exist then it will return `None` or another provided custom value such as `student.get('grade', 'N/A')`. This returns \"N/A\" as opposed to the `None`\n",
    "\n",
    "### Accessing Values:\n",
    "```python\n",
    "# Create a dictionary with key-value pairs\n",
    "person = {\"name\": \"Alice\", \"age\": 25, \"city\": \"New York\"}\n",
    "\n",
    "# Accessing a value using a key\n",
    "print(person[\"name\"])  # Outputs: Alice\n",
    "\n",
    "# Using .get() method\n",
    "print(person.get(\"age\"))  # Outputs: 25\n",
    "\n",
    "# Modifying an existing key\n",
    "person[\"age\"] = 30\n",
    "\n",
    "# Adding a new key-value pair\n",
    "person[\"country\"] = \"USA\"\n",
    "\n",
    "print(\"Updated Dictionary:\", person)\n",
    "```\n",
    "---"
   ]
  },
  {
   "cell_type": "markdown",
   "metadata": {},
   "source": [
    "### Data Structure Values\n",
    "\n",
    "In Python, the values of a dictionary can be any data structure or data type, as dictionaries allow heterogeneous data. For example, dictionary values can include: \n",
    "1. Lists: Used for storing an ordered collection of elements.\n",
    "2. Tuples: Tuples are immutable and are often used when you want fixed-length collections.\n",
    "3. Sets: Used for storing unique, unordered elements.\n",
    "4. Dictionaries: Nested dictionaries allow a hierarchy of data.\n",
    "5. Numbers: You can include integers, floats, or complex numbers.\n",
    "6. Strings: Strings are a common choice for textual data.\n",
    "7. Booleans: Booleans are useful for storing flags or binary states.\n",
    "8. NoneType: `None` is used to indicate an absence of a value \n",
    "9. Functions: You can store a function call as a value\n",
    "10. Custom Objects: Instances of user-defined classes can be stored as values.\n"
   ]
  },
  {
   "cell_type": "code",
   "execution_count": null,
   "metadata": {},
   "outputs": [],
   "source": [
    "# Define a student dictionary with multiple structures, including a function as a value\n",
    "def calculate_gpa(grades):\n",
    "    \"\"\"Function to calculate GPA from a list of grades.\"\"\"\n",
    "    return sum(grades) / len(grades)\n",
    "\n",
    "student = {\n",
    "    'name': 'John',                            # String\n",
    "    'age': 25,                                 # Integer\n",
    "    'courses': ['Math', 'CompSci'],            # List\n",
    "    'grades': {'Math': 90, 'CompSci': 95},     # Nested Dictionary\n",
    "    'hobbies': {'reading', 'coding'},          # Set (individual values)\n",
    "    'birth_date': (1998, 5, 12),               # Tuple\n",
    "    'is_graduated': True,                      # Boolean\n",
    "    'address': {                               # Nested Dictionary\n",
    "        'city': 'Atlanta',\n",
    "        'state': 'GA'\n",
    "    },\n",
    "    'gpa_calculator': calculate_gpa            # Function as a value\n",
    "}\n",
    "\n",
    "# Accessing dictionary values\n",
    "\n",
    "# 1. Accessing a string value\n",
    "print(student['name'])  # Output: John\n",
    "\n",
    "# 2. Accessing an integer value\n",
    "print(student['age'])  # Output: 25\n",
    "\n",
    "# 3. Accessing a list and its elements\n",
    "print(student['courses'])          # Output: ['Math', 'CompSci']\n",
    "print(student['courses'][0])       # Output: Math (accessing the first element)\n",
    "\n",
    "# 4. Accessing a nested dictionary\n",
    "print(student['grades'])           # Output: {'Math': 90, 'CompSci': 95}\n",
    "print(student['grades']['Math'])   # Output: 90 (accessing a specific grade)\n",
    "\n",
    "# 5. Accessing a set\n",
    "print(student['hobbies'])          # Output: {'reading', 'coding'}\n",
    "# Note: Sets are unordered, so indexing is not supported.\n",
    "\n",
    "# 6. Accessing a tuple and its elements\n",
    "print(student['birth_date'])       # Output: (1998, 5, 12)\n",
    "print(student['birth_date'][0])    # Output: 1998 (accessing the year)\n",
    "\n",
    "# 7. Accessing a boolean value\n",
    "print(student['is_graduated'])     # Output: True\n",
    "\n",
    "# 8. Accessing a nested dictionary within 'address'\n",
    "print(student['address'])          # Output: {'city': 'Atlanta', 'state': 'GA'}\n",
    "print(student['address']['city'])  # Output: Atlanta\n",
    "print(student['address']['state']) # Output: GA\n",
    "\n",
    "# 9. Accessing and using a function stored as a dictionary value\n",
    "grades_list = [90, 95, 85, 88]  # Example list of grades\n",
    "gpa = student['gpa_calculator'](grades_list)  # Call the function and pass the grades\n",
    "print(gpa)  # Output: 89.5\n"
   ]
  },
  {
   "cell_type": "markdown",
   "metadata": {},
   "source": [
    "**Note**: In the code commented at #9, we use the literals `[]()`.\n",
    "    * `student['gpa_calculator']` retrieves the value stored under the key `'gpa_calculator'`\n",
    "    * This gets the function reference (the actual calculate_gpa function) that calls the function and pass the list of grades to it. "
   ]
  },
  {
   "cell_type": "markdown",
   "metadata": {},
   "source": [
    "## 4. Dictionary Methods\n",
    "\n",
    "Dictionaries have many useful methods for manipulation:\n",
    "\n",
    "| Method          | Description                                      |\n",
    "|------------------|--------------------------------------------------|\n",
    "| `dict.keys()`    | Returns a view object of dictionary keys         |\n",
    "| `dict.values()`  | Returns a view object of dictionary values       |\n",
    "| `dict.items()`   | Returns a view object of key-value pairs         |\n",
    "| `dict.update()`  | Updates the dictionary with another dictionary our updates multiple keys at the same time   |\n",
    "| `dict.pop(key)`  | Removes a key and returns its value              |\n",
    "| `dict.clear()`   | Removes all items from the dictionary            |\n",
    "| `dict.copy()`    | Returns a shallow copy of the dictionary         |\n",
    "\n",
    "### Examples:\n",
    "```python\n",
    "# Demonstrating dictionary methods\n",
    "person = {\"name\": \"Alice\", \"age\": 30, \"city\": \"New York\"}\n",
    "\n",
    "# Access keys, values, and items\n",
    "print(person.keys())\n",
    "print(person.values())\n",
    "print(person.items())\n",
    "\n",
    "# Remove an item\n",
    "age = person.pop(\"age\")\n",
    "print(\"Removed Age:\", age)\n",
    "\n",
    "# Clear the dictionary\n",
    "person.clear()\n",
    "print(\"Cleared Dictionary:\", person)\n",
    "```\n",
    "---"
   ]
  },
  {
   "cell_type": "markdown",
   "metadata": {},
   "source": [
    "## 5. Iterating Through Dictionaries\n",
    "\n",
    "You can loop through dictionaries in Python to access keys, values, or both:\n",
    "\n",
    "```python\n",
    "# Iterating through a dictionary\n",
    "person = {\"name\": \"Alice\", \"age\": 30, \"city\": \"New York\"}\n",
    "\n",
    "# Iterate over keys\n",
    "for key in person:\n",
    "    print(\"Key:\", key)\n",
    "\n",
    "# Iterate over values\n",
    "for value in person.values():\n",
    "    print(\"Value:\", value)\n",
    "\n",
    "# Iterate over key-value pairs\n",
    "for key, value in person.items():\n",
    "    print(f\"{key}: {value}\")\n",
    "```\n",
    "---"
   ]
  },
  {
   "cell_type": "markdown",
   "metadata": {},
   "source": [
    "## 6. Dictionary Comprehension\n",
    "\n",
    "You can create dictionaries using dictionary comprehension, similar to list comprehension.\n",
    "\n",
    "### Example:\n",
    "\n",
    "```python\n",
    "# Create a dictionary with squares of numbers\n",
    "squares = {x: x**2 for x in range(5)}\n",
    "print(squares)\n",
    "```\n",
    "---"
   ]
  },
  {
   "cell_type": "markdown",
   "metadata": {},
   "source": [
    "## 7. Nested Dictionaries\n",
    "\n",
    "Dictionaries can contain other dictionaries as values, allowing for hierarchical data storage.\n",
    "\n",
    "### Example:\n",
    "```python\n",
    "\n",
    "# Nested dictionary example\n",
    "family = {\n",
    "    \"parent\": {\"name\": \"John\", \"age\": 50},\n",
    "    \"child\": {\"name\": \"Alice\", \"age\": 25}\n",
    "}\n",
    "\n",
    "print(\"Family Dictionary:\", family)\n",
    "print(\"Parent's Name:\", family[\"parent\"][\"name\"])\n",
    "```\n",
    "---"
   ]
  },
  {
   "cell_type": "markdown",
   "metadata": {},
   "source": [
    "## 8. Common Use Cases for Dictionaries\n",
    "\n",
    "- Counting occurrences of elements:\n",
    "  ```python\n",
    "  from collections import Counter\n",
    "  counts = Counter(\"hello\")\n",
    "  print(counts)  # Output: {'h': 1, 'e': 1, 'l': 2, 'o': 1}\n",
    "  ```\n",
    "---\n"
   ]
  },
  {
   "cell_type": "markdown",
   "metadata": {},
   "source": [
    "## 9. Caching Results with Dictionaries\n",
    "\n",
    "Caching is a technique to store the results of expensive computations so they can be reused without recalculation. Dictionaries are ideal for caching because they allow fast lookups by keys.\n",
    "\n",
    "### Key Steps for Caching:\n",
    "1. Use a dictionary to store results with the input as the key.\n",
    "2. Before computing, check if the result is already in the dictionary.\n",
    "3. If the result exists, retrieve it directly. Otherwise, compute it, store it, and return it.\n",
    "\n",
    "### Example: Caching Squared Results\n",
    "The following example demonstrates caching with dictionaries:\n"
   ]
  },
  {
   "cell_type": "code",
   "execution_count": 1,
   "metadata": {},
   "outputs": [
    {
     "name": "stdout",
     "output_type": "stream",
     "text": [
      "Calculating 5^2...\n",
      "25\n",
      "Retrieving 5^2 from cache...\n",
      "25\n",
      "Calculating 3^2...\n",
      "9\n"
     ]
    }
   ],
   "source": [
    "# Caching squared results with a dictionary\n",
    "cache = {}\n",
    "\n",
    "def square(x):\n",
    "    # Check if the result is already cached\n",
    "    if x in cache:\n",
    "        print(f\"Retrieving {x}^2 from cache...\")\n",
    "        return cache[x]\n",
    "    \n",
    "    # Otherwise, calculate and store in cache\n",
    "    print(f\"Calculating {x}^2...\")\n",
    "    result = x ** 2\n",
    "    cache[x] = result\n",
    "    return result\n",
    "\n",
    "# Test the function\n",
    "print(square(5))  # Calculates and caches 5^2\n",
    "print(square(5))  # Retrieves 5^2 from cache\n",
    "print(square(3))  # Calculates and caches 3^2\n"
   ]
  }
 ],
 "metadata": {
  "kernelspec": {
   "display_name": "venv",
   "language": "python",
   "name": "python3"
  },
  "language_info": {
   "codemirror_mode": {
    "name": "ipython",
    "version": 3
   },
   "file_extension": ".py",
   "mimetype": "text/x-python",
   "name": "python",
   "nbconvert_exporter": "python",
   "pygments_lexer": "ipython3",
   "version": "3.12.4"
  }
 },
 "nbformat": 4,
 "nbformat_minor": 2
}
