{
 "cells": [
  {
   "cell_type": "markdown",
   "metadata": {},
   "source": [
    "# Python Dictionaries: A Comprehensive Guide\n",
    "\n",
    "Dictionaries are one of Python's core data structures, used to store data in key-value pairs. This guide covers everything you need to know about dictionaries, including:\n",
    "- What are dictionaries?\n",
    "- Creating dictionaries\n",
    "- Accessing and modifying values\n",
    "- Dictionary methods\n",
    "- Iterating through dictionaries\n",
    "- Dictionary comprehension\n",
    "- Nested dictionaries\n",
    "- Common use cases and examples\n",
    "---"
   ]
  },
  {
   "cell_type": "markdown",
   "metadata": {},
   "source": [
    "## 1. What is a Dictionary?\n",
    "\n",
    "A dictionary is an unordered, mutable collection of items where each item is a pair of keys and values:\n",
    "- Keys: Unique and immutable (e.g., strings, numbers, tuples).\n",
    "- Values: Can be of any data type and are mutable.\n",
    "\n",
    "### Key Features of Dictionaries:\n",
    "- Defined using curly braces `{}`.\n",
    "- Keys must be unique, but values can be duplicated.\n",
    "- Dictionaries are unordered as of Python < 3.7. From Python 3.7 onwards, dictionaries maintain insertion order.\n",
    "\n",
    "### Example of a Dictionary:\n"
   ]
  },
  {
   "cell_type": "code",
   "execution_count": null,
   "metadata": {},
   "outputs": [],
   "source": [
    "# Creating a dictionary\n",
    "person = {\"name\": \"Alice\", \"age\": 25, \"city\": \"New York\"}\n",
    "print(person)"
   ]
  },
  {
   "cell_type": "markdown",
   "metadata": {},
   "source": [
    "## 2. Creating Dictionaries\n",
    "\n",
    "You can create dictionaries in several ways:\n",
    "1. Using curly braces `{}`.\n",
    "2. Using the `dict()` constructor.\n",
    "3. From a list of tuples or other iterables.\n",
    "\n",
    "### Examples:\n",
    "```python\n",
    "# Code examples\n",
    "# 1. Using curly braces\n",
    "student = {\"name\": \"John\", \"grade\": \"A\", \"age\": 20}\n",
    "\n",
    "# 2. Using the dict() constructor\n",
    "employee = dict(name=\"Jane\", position=\"Manager\", salary=80000)\n",
    "\n",
    "# 3. From a list of tuples\n",
    "pairs = [(\"x\", 10), (\"y\", 20)]\n",
    "coordinates = dict(pairs)\n",
    "```\n",
    "---"
   ]
  },
  {
   "cell_type": "code",
   "execution_count": null,
   "metadata": {},
   "outputs": [],
   "source": [
    "# Examples of creating dictionaries\n",
    "student = {\"name\": \"John\", \"grade\": \"A\", \"age\": 20}\n",
    "employee = dict(name=\"Jane\", position=\"Manager\", salary=80000)\n",
    "coordinates = dict([(\"x\", 10), (\"y\", 20)])\n",
    "\n",
    "print(\"Student:\", student)\n",
    "print(\"Employee:\", employee)\n",
    "print(\"Coordinates:\", coordinates)"
   ]
  },
  {
   "cell_type": "markdown",
   "metadata": {},
   "source": [
    "## 3. Accessing and Modifying Dictionary Values\n",
    "\n",
    "You can access values in a dictionary using their keys. Use square brackets `[]` or the `.get()` method.\n",
    "\n",
    "### Accessing Values:\n",
    "```python\n",
    "# Accessing and modifying a dictionary\n",
    "person = {\"name\": \"Alice\", \"age\": 25, \"city\": \"New York\"}\n",
    "\n",
    "# Accessing a value using a key\n",
    "print(person[\"name\"])  # Outputs: Alice\n",
    "\n",
    "# Using .get() method\n",
    "print(person.get(\"age\"))  # Outputs: 25\n",
    "\n",
    "# Modifying an existing key\n",
    "person[\"age\"] = 30\n",
    "\n",
    "# Adding a new key-value pair\n",
    "person[\"country\"] = \"USA\"\n",
    "\n",
    "print(\"Updated Dictionary:\", person)\n",
    "```\n",
    "---"
   ]
  },
  {
   "cell_type": "markdown",
   "metadata": {},
   "source": [
    "## 4. Dictionary Methods\n",
    "\n",
    "Dictionaries have many useful methods for manipulation:\n",
    "\n",
    "| Method          | Description                                      |\n",
    "|------------------|--------------------------------------------------|\n",
    "| `dict.keys()`    | Returns a view object of dictionary keys         |\n",
    "| `dict.values()`  | Returns a view object of dictionary values       |\n",
    "| `dict.items()`   | Returns a view object of key-value pairs         |\n",
    "| `dict.update()`  | Updates the dictionary with another dictionary   |\n",
    "| `dict.pop(key)`  | Removes a key and returns its value              |\n",
    "| `dict.clear()`   | Removes all items from the dictionary            |\n",
    "| `dict.copy()`    | Returns a shallow copy of the dictionary         |\n",
    "\n",
    "### Examples:\n",
    "```python\n",
    "# Demonstrating dictionary methods\n",
    "person = {\"name\": \"Alice\", \"age\": 30, \"city\": \"New York\"}\n",
    "\n",
    "# Access keys, values, and items\n",
    "print(person.keys())\n",
    "print(person.values())\n",
    "print(person.items())\n",
    "\n",
    "# Remove an item\n",
    "age = person.pop(\"age\")\n",
    "print(\"Removed Age:\", age)\n",
    "\n",
    "# Clear the dictionary\n",
    "person.clear()\n",
    "print(\"Cleared Dictionary:\", person)\n",
    "```\n",
    "---"
   ]
  },
  {
   "cell_type": "markdown",
   "metadata": {},
   "source": [
    "## 5. Iterating Through Dictionaries\n",
    "\n",
    "You can loop through dictionaries in Python to access keys, values, or both:\n",
    "\n",
    "```python\n",
    "# Iterating through a dictionary\n",
    "person = {\"name\": \"Alice\", \"age\": 30, \"city\": \"New York\"}\n",
    "\n",
    "# Iterate over keys\n",
    "for key in person:\n",
    "    print(\"Key:\", key)\n",
    "\n",
    "# Iterate over values\n",
    "for value in person.values():\n",
    "    print(\"Value:\", value)\n",
    "\n",
    "# Iterate over key-value pairs\n",
    "for key, value in person.items():\n",
    "    print(f\"{key}: {value}\")\n",
    "```\n",
    "---"
   ]
  },
  {
   "cell_type": "markdown",
   "metadata": {},
   "source": [
    "## 6. Dictionary Comprehension\n",
    "\n",
    "You can create dictionaries using dictionary comprehension, similar to list comprehension.\n",
    "\n",
    "### Example:\n",
    "```python\n",
    "# Create a dictionary with squares of numbers\n",
    "squares = {x: x**2 for x in range(5)}\n",
    "print(squares)\n",
    "```\n",
    "---"
   ]
  },
  {
   "cell_type": "markdown",
   "metadata": {},
   "source": [
    "## 7. Nested Dictionaries\n",
    "\n",
    "Dictionaries can contain other dictionaries as values, allowing for hierarchical data storage.\n",
    "\n",
    "### Example:\n",
    "```python\n",
    "\n",
    "# Nested dictionary example\n",
    "family = {\n",
    "    \"parent\": {\"name\": \"John\", \"age\": 50},\n",
    "    \"child\": {\"name\": \"Alice\", \"age\": 25}\n",
    "}\n",
    "\n",
    "print(\"Family Dictionary:\", family)\n",
    "print(\"Parent's Name:\", family[\"parent\"][\"name\"])\n",
    "```\n",
    "---"
   ]
  },
  {
   "cell_type": "markdown",
   "metadata": {},
   "source": [
    "## 8. Common Use Cases for Dictionaries\n",
    "\n",
    "- Counting occurrences of elements:\n",
    "  ```python\n",
    "  from collections import Counter\n",
    "  counts = Counter(\"hello\")\n",
    "  print(counts)  # Output: {'h': 1, 'e': 1, 'l': 2, 'o': 1}\n",
    "```\n",
    "---"
   ]
  },
  {
   "cell_type": "markdown",
   "metadata": {},
   "source": [
    "## 9. Caching Results with Dictionaries\n",
    "\n",
    "Caching is a technique to store the results of expensive computations so they can be reused without recalculation. Dictionaries are ideal for caching because they allow fast lookups by keys.\n",
    "\n",
    "### Key Steps for Caching:\n",
    "1. Use a dictionary to store results with the input as the key.\n",
    "2. Before computing, check if the result is already in the dictionary.\n",
    "3. If the result exists, retrieve it directly. Otherwise, compute it, store it, and return it.\n",
    "\n",
    "### Example: Caching Squared Results\n",
    "The following example demonstrates caching with dictionaries:\n"
   ]
  },
  {
   "cell_type": "code",
   "execution_count": null,
   "metadata": {},
   "outputs": [],
   "source": [
    "# Caching squared results with a dictionary\n",
    "cache = {}\n",
    "\n",
    "def square(x):\n",
    "    # Check if the result is already cached\n",
    "    if x in cache:\n",
    "        print(f\"Retrieving {x}^2 from cache...\")\n",
    "        return cache[x]\n",
    "    \n",
    "    # Otherwise, calculate and store in cache\n",
    "    print(f\"Calculating {x}^2...\")\n",
    "    result = x ** 2\n",
    "    cache[x] = result\n",
    "    return result\n",
    "\n",
    "# Test the function\n",
    "print(square(5))  # Calculates and caches 5^2\n",
    "print(square(5))  # Retrieves 5^2 from cache\n",
    "print(square(3))  # Calculates and caches 3^2\n"
   ]
  }
 ],
 "metadata": {
  "kernelspec": {
   "display_name": "venv",
   "language": "python",
   "name": "python3"
  },
  "language_info": {
   "codemirror_mode": {
    "name": "ipython",
    "version": 3
   },
   "file_extension": ".py",
   "mimetype": "text/x-python",
   "name": "python",
   "nbconvert_exporter": "python",
   "pygments_lexer": "ipython3",
   "version": "3.12.4"
  }
 },
 "nbformat": 4,
 "nbformat_minor": 2
}
