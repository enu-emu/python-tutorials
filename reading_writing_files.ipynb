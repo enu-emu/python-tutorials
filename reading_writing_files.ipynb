{
 "cells": [
  {
   "cell_type": "markdown",
   "metadata": {},
   "source": [
    "# Reading and Writing Text Files\n",
    "\n",
    "Reading and writing files containing text is a common task. Text files not only include *.txt files created in your notepad editor, but also includes other files such as python source code and HTML files. This is a useful skill in data science as you will often be opening and analyzing large datasets. \n",
    "\n",
    "### Opening a file\n",
    "\n",
    "When opening a file, you supply the file's name as stored on the disk and the mode in which the file is to be opened (reading or writing). If the file is stored in a different directory, the file name is preceded by the directory path. Suppose you want to read data from a file named input.txt, located in the same directory as the program. Use the following: \n",
    "\n",
    "```python\n",
    "infile = open(\"input.txt\", \"r\")     # Creates a file object for reading\n",
    "outfile = open(\"output.txt\", \"w\")   # Creates a file object for writing\n",
    "\n",
    "infile.close()                      # Must close upon finishing with the file \n",
    "outfile.close()\n",
    "```\n",
    "\n",
    "The file object returned by the open function must be saved in a variable. All operations for accessing a file are made via the file object. When writing to a file object, if the output file already exists, it is emptied before the new data is written into it. If the file does not exist, an empty file is created. Closing the file after using is important, especially when writing a file as it may not write completely unless closed."
   ]
  },
  {
   "cell_type": "markdown",
   "metadata": {},
   "source": [
    "### Reading from a File\n",
    "\n",
    "When a file is opened, an input marker is positioned at the beginning of the file. The `readline` method returns the line of text that it read, including the newline character that denotes the end of the line. If the file contains a blank line, then readline returns a string containing only the newline character \"\\n\". If you are at the end and have read all lines in a file, the readline file will start returning empty strings as there is no more text to process. These empty strings can act as a sentinel value to read all the lines in the file object: \n",
    "\n",
    "```python\n",
    "infile = open(\"input.txt\", \"r\")\n",
    "line = infile.readline()\n",
    "while line != \"\":\n",
    "    # Process the line\n",
    "    line = infile.readline()\n",
    "```"
   ]
  },
  {
   "cell_type": "markdown",
   "metadata": {},
   "source": [
    "### Writing to a File\n",
    "\n",
    "Write to a file using the `write` or `print` function. \n",
    "\n",
    "1. `write`: takes a single string as an argument and appends the string at the end of the file after any already existing code. You must explicitly write the newline character to start a new line. In the below example, we create an output file with the formatting in the f-string. It outputs the number 37 which is the number of characters written to the file by the outfile.write function."
   ]
  },
  {
   "cell_type": "code",
   "execution_count": 3,
   "metadata": {},
   "outputs": [
    {
     "data": {
      "text/plain": [
       "37"
      ]
     },
     "execution_count": 3,
     "metadata": {},
     "output_type": "execute_result"
    }
   ],
   "source": [
    "count = 5\n",
    "total = 123.456\n",
    "outfile = open(\"output.txt\", \"w\")\n",
    "outfile.write(f\"Number of entries: {count}\\nTotal: {total:8.2f}\\n\")\n",
    "outfile.close()"
   ]
  },
  {
   "cell_type": "markdown",
   "metadata": {},
   "source": [
    "2. `print`: alternative to the write function and will automatically include a new line. If that is not what you want you can include the `end=''` parameter in the print function"
   ]
  },
  {
   "cell_type": "code",
   "execution_count": 10,
   "metadata": {},
   "outputs": [],
   "source": [
    "outfile = open(\"output.txt\", \"w\")\n",
    "print(\"Hello, World!\", file=outfile)\n",
    "# print(\"Total: \", end=\"\", file=outfile)\n",
    "outfile.close()\n"
   ]
  },
  {
   "cell_type": "markdown",
   "metadata": {},
   "source": []
  }
 ],
 "metadata": {
  "kernelspec": {
   "display_name": "venv",
   "language": "python",
   "name": "python3"
  },
  "language_info": {
   "codemirror_mode": {
    "name": "ipython",
    "version": 3
   },
   "file_extension": ".py",
   "mimetype": "text/x-python",
   "name": "python",
   "nbconvert_exporter": "python",
   "pygments_lexer": "ipython3",
   "version": "3.12.4"
  }
 },
 "nbformat": 4,
 "nbformat_minor": 2
}
