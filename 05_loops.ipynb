{
 "cells": [
  {
   "cell_type": "markdown",
   "metadata": {},
   "source": [
    "# For loops\n",
    "\n",
    "The for loop is used to iterate over a sequence (like a list, tuple, string, or range). A for loop is ideal when the number of iterations is determined by an iterable, such as a list or a range. \n",
    "\n",
    "```python\n",
    "for variable in sequence:\n",
    "    # Code to execute in each iteration\n",
    "```\n",
    "\n",
    "You can loop with the `range` function that generates a sequence of integers to make a count-controlled loop. By default, the Python `print()` function appends a newline character (`\\n`) at the end of whatever it prints, so each `print()` call appears on a new line. However, you can customize what is appended to the printed output using the `end` parameter. This lets you specify what should be appended at the end of the printed string (e.g. space, comma, or some other delimeter) instead of the default newline.\n",
    "- `end=''`: No separator\n",
    "- `end=' '`: Separated by a space\n",
    "- `end=', '`: Comma separated \n",
    "\n",
    "Below we use end dynamically. Since we know that with `range(1, 10, 2)` that `9` will be the last printed value, we make all numbers before that use the comma separated `end=', '`, but with `9` then it creates a new line character. "
   ]
  },
  {
   "cell_type": "code",
   "execution_count": 21,
   "metadata": {},
   "outputs": [
    {
     "name": "stdout",
     "output_type": "stream",
     "text": [
      "1, 3, 5, 7, 9\n"
     ]
    }
   ],
   "source": [
    "# Note in range, the 1st parameter start is inclusive and the 2nd end parameter is exclusive \n",
    "# The 3rd step parameter defaults to 1 unless otherwise specfied \n",
    "\n",
    "for i in range(1, 10, 2) : # start:1; end:10; step:2; i = 1, 3, 5, ..., 9\n",
    "    print(i, end = ', ' if i != 9 else '\\n')"
   ]
  },
  {
   "cell_type": "code",
   "execution_count": 22,
   "metadata": {},
   "outputs": [
    {
     "name": "stdout",
     "output_type": "stream",
     "text": [
      "10, 9, 8, 7, 6, 5, 4, 3, 2, 1, 0\n"
     ]
    }
   ],
   "source": [
    "for i in range(10, -1, -1) : # start:10; end:-1; step:reverse; i = 10, 9, 8, ..., 0\n",
    "    print(i, end = ', ' if i != 0 else '\\n')"
   ]
  },
  {
   "cell_type": "code",
   "execution_count": 23,
   "metadata": {},
   "outputs": [
    {
     "name": "stdout",
     "output_type": "stream",
     "text": [
      "0, 1, 2, 3, 4, 5, 6, 7, 8, 9\n"
     ]
    }
   ],
   "source": [
    "for i in range(10): # start:default(0); end: 10\n",
    "    print(i, end = ', ' if i != 9 else '\\n')"
   ]
  },
  {
   "cell_type": "markdown",
   "metadata": {},
   "source": [
    "### Using `break`\n",
    "\n",
    "The `break` statement will exit a loop regardless of the loops condition. "
   ]
  },
  {
   "cell_type": "code",
   "execution_count": 18,
   "metadata": {},
   "outputs": [
    {
     "name": "stdout",
     "output_type": "stream",
     "text": [
      "Searching for target number: 9\n",
      "Checked 3, not 9\n",
      "Checked 7, not 9\n",
      "Checked 1, not 9\n",
      "Checked 9, 9 has been found!\n"
     ]
    }
   ],
   "source": [
    "numbers = [3, 7, 1, 9, 2, 8]\n",
    "target = 9\n",
    "print(f\"Searching for target number: {target}\")\n",
    "for num in numbers:\n",
    "    if num == target:\n",
    "        print(f\"Checked {num}, {target} has been found!\")\n",
    "        break\n",
    "    print(f\"Checked {num}, not {target}\")"
   ]
  },
  {
   "cell_type": "markdown",
   "metadata": {},
   "source": [
    "To break out of a nested loop, you can use `break` in the inner loop."
   ]
  },
  {
   "cell_type": "code",
   "execution_count": 24,
   "metadata": {},
   "outputs": [
    {
     "name": "stdout",
     "output_type": "stream",
     "text": [
      "i=0, j=0\n",
      "i=0, j=1\n",
      "Breaking inner loop at j == 1\n",
      "i=1, j=0\n",
      "i=1, j=1\n",
      "Breaking inner loop at j == 1\n",
      "i=2, j=0\n",
      "i=2, j=1\n",
      "Breaking inner loop at j == 1\n"
     ]
    }
   ],
   "source": [
    "for i in range(3):\n",
    "    for j in range(3):\n",
    "        print(f\"i={i}, j={j}\")\n",
    "        if j == 1:\n",
    "            print(\"Breaking inner loop at j == 1\")\n",
    "            break\n"
   ]
  },
  {
   "cell_type": "markdown",
   "metadata": {},
   "source": [
    "### Using `continue`\n",
    "\n",
    "The `continue` statement skips the rest of the current iteration and moves to the next iteration. The continue statement is often used with if conditions to selectively bypass parts of the loop body.\n",
    "It does not terminate the loop; it simply skips the rest of the code in the current iteration.\n",
    "Use it to make loops more readable and concise when skipping specific iterations."
   ]
  },
  {
   "cell_type": "code",
   "execution_count": 25,
   "metadata": {},
   "outputs": [
    {
     "name": "stdout",
     "output_type": "stream",
     "text": [
      "2, 4, 6, 8, 10\n"
     ]
    }
   ],
   "source": [
    "# Print only even numbers from 1 to 10\n",
    "for number in range(1, 11):\n",
    "    if number % 2 != 0:  # Skip odd numbers\n",
    "        continue\n",
    "    print(number, end = ', ' if number != 10 else '\\n')\n"
   ]
  },
  {
   "cell_type": "markdown",
   "metadata": {},
   "source": [
    "# While Loops\n",
    "\n",
    "A `while` loop executes instructions repeatedly while a condition is true. Use a `while` loop when the number of iterations is unknown and you can use conditionals to direct flow. A while loop is better suited for scenarios where the termination condition is determined dynamically during runtime."
   ]
  },
  {
   "cell_type": "code",
   "execution_count": 19,
   "metadata": {},
   "outputs": [
    {
     "name": "stdout",
     "output_type": "stream",
     "text": [
      "Performing: task1\n",
      "Performing: task2\n",
      "Performing: task3\n"
     ]
    }
   ],
   "source": [
    "# Truthy example\n",
    "tasks = [\"task1\", \"task2\", \"task3\"]\n",
    "while tasks:  # The loop runs as long as 'tasks' is not empty\n",
    "    print(\"Performing:\", tasks.pop(0))\n"
   ]
  },
  {
   "cell_type": "code",
   "execution_count": 20,
   "metadata": {},
   "outputs": [
    {
     "name": "stdout",
     "output_type": "stream",
     "text": [
      "5, 4, 3, 2, 1\n"
     ]
    }
   ],
   "source": [
    "# Truthy example\n",
    "count = 5\n",
    "while count:  # 'count' is truthy as long as it's non-zero\n",
    "    print(count, end= ', ' if count > 1 else '\\n')\n",
    "    count -= 1  # Decrement to eventually make it falsy (0)\n"
   ]
  },
  {
   "cell_type": "code",
   "execution_count": 27,
   "metadata": {},
   "outputs": [],
   "source": [
    "# Falsy example\n",
    "tasks = []\n",
    "while tasks:  # This loop won't run because tasks is empty (falsy)\n",
    "    print(\"This won't print!\")    \n"
   ]
  },
  {
   "cell_type": "markdown",
   "metadata": {},
   "source": [
    "# Using else\n",
    "\n",
    "In python, the `else` clause can be used with both `for` and `while` loops. If a loop executes normally _**without**_ the use of a `break` statement then the statement in the `else` block executes. If `break` interrupts the loop then the `else` block is skipped\n",
    "\n",
    "1. For `for` loops: \n",
    "    - The `else` block runs if the loop completes all iterations _**without**_ encountering a break\n",
    "2. For `while` loops: \n",
    "    - The `else` block runs if the loop condition becomes falsey and no break is encountered\n",
    "\n",
    "\n",
    "The else clause is particularly useful for:\n",
    "\n",
    "* Search problems to distinguish between finding an item (break) and completing the search without success (else).\n",
    "* Tracking normal completion to confirm that a loop ran to completion (especially in complex logic)."
   ]
  },
  {
   "cell_type": "code",
   "execution_count": 29,
   "metadata": {},
   "outputs": [
    {
     "name": "stdout",
     "output_type": "stream",
     "text": [
      "The target '6' was not found.\n"
     ]
    }
   ],
   "source": [
    "numbers = [1, 2, 3, 4, 5]\n",
    "target = 6\n",
    "\n",
    "for num in numbers:\n",
    "    if num == target:\n",
    "        print(f\"Found {target}!\")\n",
    "        break\n",
    "else:\n",
    "    print(f\"The target '{target}' was not found.\")"
   ]
  },
  {
   "cell_type": "code",
   "execution_count": 33,
   "metadata": {},
   "outputs": [
    {
     "name": "stdout",
     "output_type": "stream",
     "text": [
      "Number '11' is odd\n",
      "Number '7' is odd\n",
      "Number '2' is even\n",
      "Number '16' is even\n",
      "Number '8' is even\n",
      "Numbers in list: [11, 7, 2, 16, 8]\n"
     ]
    }
   ],
   "source": [
    "numbers = [11, 7, 2, 16, 8]\n",
    "for num in numbers: \n",
    "    if num % 2 == 0:\n",
    "        print(f\"Number '{num}' is even\")\n",
    "    else:\n",
    "        print(f\"Number '{num}' is odd\")\n",
    "else: \n",
    "    print(f\"Numbers in list: {numbers}\")"
   ]
  },
  {
   "cell_type": "code",
   "execution_count": 34,
   "metadata": {},
   "outputs": [
    {
     "name": "stdout",
     "output_type": "stream",
     "text": [
      "Count: 3\n",
      "Count: 2\n",
      "Count: 1\n",
      "Loop finished naturally.\n"
     ]
    }
   ],
   "source": [
    "count = 3\n",
    "\n",
    "while count > 0:\n",
    "    print(f\"Count: {count}\")\n",
    "    count -= 1\n",
    "else:\n",
    "    print(\"Loop finished naturally.\")"
   ]
  },
  {
   "cell_type": "code",
   "execution_count": 45,
   "metadata": {},
   "outputs": [
    {
     "name": "stdout",
     "output_type": "stream",
     "text": [
      "Searching for record with ID 3...\n",
      "\n",
      "Record {'id': 1, 'name': 'Alice'}:\t\tNOT A MATCH!\n",
      "Record {'id': 2, 'name': 'Bob'}:\t\tNOT A MATCH!\n",
      "Record: {'id': None, 'name': 'Invalid'}:\tINVALID!\n",
      "---------------\n",
      "Record with ID 3 found: {'id': 3, 'name': 'Charlie'}\n"
     ]
    }
   ],
   "source": [
    "# Simulated dataset\n",
    "dataset = [\n",
    "    {\"id\": 1, \"name\": \"Alice\"},\n",
    "    {\"id\": 2, \"name\": \"Bob\"},\n",
    "    {\"id\": None, \"name\": \"Invalid\"},  # Invalid entry\n",
    "    {\"id\": 3, \"name\": \"Charlie\"},\n",
    "    {\"id\": 4, \"name\": \"Diana\"}\n",
    "]\n",
    "\n",
    "# Target ID to search for\n",
    "target_id1, target_id2 = 3, 5\n",
    "\n",
    "print(f\"Searching for record with ID {target_id1}...\\n\")\n",
    "\n",
    "for record in dataset:\n",
    "    # Skip invalid entries\n",
    "    if record[\"id\"] is None:\n",
    "        print(f\"Record: {record}:\\tINVALID!\")\n",
    "        continue\n",
    "    \n",
    "    # Check if the current record matches the target\n",
    "    if record[\"id\"] == target_id1:\n",
    "        print('-' * 15)\n",
    "        print(f\"Record with ID {target_id1} found: {record}\")\n",
    "        break\n",
    "    else:\n",
    "        print(f\"Record {record}:\\t\\tNOT A MATCH!\")\n",
    "else:\n",
    "    # This runs if no record matches and loop completes normally\n",
    "    print(\"Search completed. Record not found.\")\n"
   ]
  },
  {
   "cell_type": "code",
   "execution_count": 47,
   "metadata": {},
   "outputs": [
    {
     "name": "stdout",
     "output_type": "stream",
     "text": [
      "Searching for record with ID 5...\n",
      "\n",
      "Record {'id': 1, 'name': 'Alice'}:\t\tNOT A MATCH!\n",
      "Record {'id': 2, 'name': 'Bob'}:\t\tNOT A MATCH!\n",
      "Record: {'id': None, 'name': 'Invalid'}:\tINVALID!\n",
      "Record {'id': 3, 'name': 'Charlie'}:\t\tNOT A MATCH!\n",
      "Record {'id': 4, 'name': 'Diana'}:\t\tNOT A MATCH!\n",
      "---------------\n",
      "Search completed. Record not found.\n"
     ]
    }
   ],
   "source": [
    "print(f\"Searching for record with ID {target_id2}...\\n\")\n",
    "\n",
    "for record in dataset:\n",
    "    # Skip invalid entries\n",
    "    if record[\"id\"] is None:\n",
    "        print(f\"Record: {record}:\\tINVALID!\")\n",
    "        continue\n",
    "    \n",
    "    # Check if the current record matches the target\n",
    "    if record[\"id\"] == target_id2:\n",
    "        print('-' * 15)\n",
    "        print(f\"Record with ID {target_id2} found: {record}\")\n",
    "        break\n",
    "    else:\n",
    "        print(f\"Record {record}:\\t\\tNOT A MATCH!\")\n",
    "else:\n",
    "    # This runs if no record matches and loop completes normally\n",
    "    print('-' * 15)\n",
    "    print(\"Search completed. Record not found.\")\n"
   ]
  }
 ],
 "metadata": {
  "kernelspec": {
   "display_name": "venv",
   "language": "python",
   "name": "python3"
  },
  "language_info": {
   "codemirror_mode": {
    "name": "ipython",
    "version": 3
   },
   "file_extension": ".py",
   "mimetype": "text/x-python",
   "name": "python",
   "nbconvert_exporter": "python",
   "pygments_lexer": "ipython3",
   "version": "3.12.4"
  }
 },
 "nbformat": 4,
 "nbformat_minor": 2
}
