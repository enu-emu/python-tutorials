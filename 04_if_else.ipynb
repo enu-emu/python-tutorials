{
 "cells": [
  {
   "cell_type": "markdown",
   "metadata": {},
   "source": [
    "# Python `if/else` Conditionals Cheat Sheet\n",
    "\n",
    "### Basics of `if`, `elif`, and `else`\n",
    "- **`if` Statement**: Executes a block of code if the condition evaluates to `True`.\n",
    "- **`elif` (else if)**: Checks another condition if the previous `if` or `elif` was `False`.\n",
    "- **`else`**: Executes a block of code if all preceding `if` and `elif` conditions are `False`.\n",
    "\n",
    "### Syntax:\n",
    "```python\n",
    "if condition1:\n",
    "    # Block executed if condition1 is True\n",
    "elif condition2:\n",
    "    # Block executed if condition2 is True and condition1 is False\n",
    "else:\n",
    "    # Block executed if all conditions above are False\n",
    "```\n",
    "---"
   ]
  },
  {
   "cell_type": "markdown",
   "metadata": {},
   "source": [
    "### Comparison and Logical Operators\n",
    "- **Comparison Operators**:\n",
    "  - `==`: Equal to\n",
    "  - `!=`: Not equal to\n",
    "  - `<`: Less than\n",
    "  - `>`: Greater than\n",
    "  - `<=`: Less than or equal to\n",
    "  - `>=`: Greater than or equal to\n",
    "\n",
    "- **Logical Operators**:\n",
    "  - `and`: All conditions must be `True`.\n",
    "  - `or`: At least one condition must be `True`.\n",
    "  - `not`: Negates a condition.\n",
    "\n",
    "Example with Logical Operators:\n",
    "```python\n",
    "age = 20\n",
    "if age > 18 and age < 30:\n",
    "    print(\"Young adult\")\n",
    "```\n",
    "\n",
    "---\n"
   ]
  },
  {
   "cell_type": "markdown",
   "metadata": {},
   "source": [
    "\n",
    "### Nested Conditionals\n",
    "- `if/else` statements can be nested to handle complex conditions.\n",
    "\n",
    "### Example:\n",
    "```python\n",
    "number = 5\n",
    "if number > 0:\n",
    "    if number % 2 == 0:\n",
    "        print(\"Positive even number\")\n",
    "    else:\n",
    "        print(\"Positive odd number\")\n",
    "else:\n",
    "    print(\"Non-positive number\")\n",
    "```\n",
    "\n",
    "---\n",
    "\n"
   ]
  },
  {
   "cell_type": "markdown",
   "metadata": {},
   "source": [
    "### Conditional Expressions (Ternary Operators)\n",
    "- A shorthand for `if/else`.\n",
    "\n",
    "### Syntax:\n",
    "```python\n",
    "value = true_value if condition else false_value\n",
    "```\n",
    "\n",
    "### Example:\n",
    "```python\n",
    "age = 18\n",
    "status = \"Adult\" if age >= 18 else \"Minor\"\n",
    "print(status)  # Output: Adult\n",
    "```\n",
    "\n",
    "---\n"
   ]
  },
  {
   "cell_type": "markdown",
   "metadata": {},
   "source": [
    "### `if` with Membership and Identity Operators\n",
    "- **Membership Operators**:\n",
    "  - `in`: Checks if an element exists in a sequence.\n",
    "  - `not in`: Checks if an element does not exist in a sequence.\n",
    "\n",
    "- **Identity Operators**:\n",
    "  - `is`: Checks if two objects refer to the same memory location.\n",
    "  - `is not`: Checks if two objects do not refer to the same memory location.\n",
    "\n",
    "### Example:\n",
    "```python\n",
    "# Membership\n",
    "fruits = [\"apple\", \"banana\", \"cherry\"]\n",
    "if \"apple\" in fruits:\n",
    "    print(\"Apple is in the list.\")\n",
    "\n",
    "# Identity\n",
    "a = None\n",
    "if a is None:\n",
    "    print(\"a is None\")\n",
    "```\n",
    "\n",
    "---\n",
    "\n"
   ]
  },
  {
   "cell_type": "markdown",
   "metadata": {},
   "source": [
    "### Advanced: Chaining Comparisons\n",
    "- Python supports chaining comparison operators for concise expressions.\n",
    "\n",
    "### Example:\n",
    "```python\n",
    "x = 5\n",
    "if 1 < x < 10:\n",
    "    print(\"x is between 1 and 10\")\n",
    "```\n",
    "\n",
    "---\n",
    "\n"
   ]
  },
  {
   "cell_type": "markdown",
   "metadata": {},
   "source": [
    "### Using `if` with Loops\n",
    "- Combine `if` conditionals with loops for filtering or controlling flow.\n",
    "\n",
    "### Example:\n",
    "```python\n",
    "numbers = [1, 2, 3, 4, 5]\n",
    "for num in numbers:\n",
    "    if num % 2 == 0:\n",
    "        print(f\"{num} is even\")\n",
    "```\n",
    "\n",
    "---\n",
    "\n"
   ]
  },
  {
   "cell_type": "markdown",
   "metadata": {},
   "source": [
    "### `if` with Functions\n",
    "- Use `if` conditionals to control function logic.\n",
    "\n",
    "### Example:\n",
    "```python\n",
    "def check_number(num):\n",
    "    if num > 0:\n",
    "        return \"Positive\"\n",
    "    elif num < 0:\n",
    "        return \"Negative\"\n",
    "    else:\n",
    "        return \"Zero\"\n",
    "\n",
    "print(check_number(-5))  # Output: Negative\n",
    "```\n",
    "\n",
    "---\n",
    "\n"
   ]
  },
  {
   "cell_type": "markdown",
   "metadata": {},
   "source": [
    "### `if` with Exception Handling\n",
    "- Combine `if` conditionals with `try/except` blocks for error control.\n",
    "\n",
    "### Example:\n",
    "```python\n",
    "value = \"10\"\n",
    "try:\n",
    "    num = int(value)\n",
    "    if num > 0:\n",
    "        print(\"Positive number\")\n",
    "    else:\n",
    "        print(\"Non-positive number\")\n",
    "except ValueError:\n",
    "    print(\"Invalid input\")\n",
    "```\n",
    "\n",
    "---\n",
    "\n"
   ]
  },
  {
   "cell_type": "markdown",
   "metadata": {},
   "source": [
    "### Common Pitfalls\n",
    "1. **Indentation Errors**: Always use consistent indentation (preferably 4 spaces).\n",
    "2. **Unintended Truthy/Falsy Values**:\n",
    "   - Below show the values considered false such as empty sequences and empty mappings: \n",
    "      - `0`, `None`, `[]`, `{}`, `()`,`''`, are `False`.\n",
    "      - This can be useful to check if a data structure like a string, list, dictionary, or set is empty\n",
    "   - Non-zero numbers, non-empty containers, and non-empty strings are `True`.\n",
    "\n",
    "---"
   ]
  }
 ],
 "metadata": {
  "language_info": {
   "name": "python"
  }
 },
 "nbformat": 4,
 "nbformat_minor": 2
}
